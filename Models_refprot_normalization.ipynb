{
 "cells": [
  {
   "cell_type": "code",
   "execution_count": null,
   "id": "6ca68672-0fe5-4dac-9f20-7d2efdcead3d",
   "metadata": {},
   "outputs": [],
   "source": [
    "## Author: Linda Karlsson, 2024\n",
    "\n",
    "# import packages\n",
    "\n",
    "import pandas as pd\n",
    "import pickle\n",
    "import numpy as np\n",
    "from pathlib import PurePath\n",
    "import os\n",
    "import warnings\n",
    "warnings.filterwarnings(\"ignore\", category=np.VisibleDeprecationWarning) \n",
    "import Fns_refprot_normalization as fns\n",
    "\n",
    "# define path\n",
    "path = PurePath(os.getcwd())\n",
    "parents = path.parents "
   ]
  },
  {
   "cell_type": "markdown",
   "id": "bd399a70-4fe5-4991-8759-1b03ccc811af",
   "metadata": {},
   "source": [
    "#### This notebook runs univariate linear regression models that compare a biomarker alone versus in a ratio with a reference protein for tau pet Braak I-IV, tau pet Braak V-VI and Amyloid pet."
   ]
  },
  {
   "cell_type": "markdown",
   "id": "5b6e2e75-55a0-4e34-8254-4304949d1fd8",
   "metadata": {},
   "source": [
    "### Load data and create biomarker ratios"
   ]
  },
  {
   "cell_type": "code",
   "execution_count": null,
   "id": "8757674d-9127-4e2b-b7bb-454c4658ce26",
   "metadata": {},
   "outputs": [],
   "source": [
    "## Change path to where you have the raw data, load data and change back path.\n",
    "os.chdir(str(path) + '') ## INSERT PATH\n",
    "df = pd.read_csv('') ## INSERT NAME OF DATA FILE\n",
    "os.chdir(str(path))\n",
    "\n",
    "## if applicable, also do some data cleaning. We removed two outliers and used only baseline visits. For example:\n",
    "df = df[df['Visit'] == 0]"
   ]
  },
  {
   "cell_type": "code",
   "execution_count": null,
   "id": "bd402e13-8ba0-4d51-8127-71d94fa7f768",
   "metadata": {},
   "outputs": [],
   "source": [
    "#insert name of outcome variables\n",
    "tau_pet_braak_I_IV = 'tnic_cho_com_I_IV' ## INSERT TEMPORAL TAU PET COMPOSITE\n",
    "tau_pet_braak_V_VI = 'tnic_cho_com_V_VI' ## INSERT CORTICAL TAU PET COMPOSITE\n",
    "amyloid_pet = 'fnc_ber_com_composite' ## INSERT AMYLOID PET COMPOSITE\n",
    "\n",
    "#define list of biomarkers (adjust according to biomarker names in dataset)\n",
    "csf_biomarkers = ['CSF_ptau217_Lilly',\n",
    "                  'CSF_ptau181_Lilly',,\n",
    "                  'CSF_MTBRtau243_WashU',\n",
    "                  'CSF_ptau205_WashU',\n",
    "                  'CSF_Ab42_Elecsys',\n",
    "                  'CSF_SNAP25_UGOT',\n",
    "                  'CSF_Neurogranin_NTK'\n",
    "                 ]\n",
    "\n",
    "plasma_biomarkers = ['Plasma_ptau217_Lilly',\n",
    "                     'Plasma_ptau181_Lilly',\n",
    "                     'Plasma_ptau205_WashU',\n",
    "                     'Plasma_eMTBRtau243_WashU',\n",
    "                     'Plasma_Ab42_WashU']\n",
    "\n",
    "#define name of reference proteins\n",
    "csf_refprot = 'CSF_Ab40_Elecsys'\n",
    "plasma_refprot = 'Plasma_Ab40_WashU'\n",
    "\n",
    "#add biomarker ratios to dataframe and save a list of their names\n",
    "df,csf_biomarkers_normalized = fns.create_biomarker_ratios(df,csf_biomarkers,csf_refprot)\n",
    "df,plasma_biomarkers_normalized = fns.create_biomarker_ratios(df,plasma_biomarkers,plasma_refprot)\n",
    "\n",
    "# create dfs for each outcome\n",
    "df_tau_pet_braak_I_IV = df[df[tau_pet_braak_I_IV].notnull()].reset_index(drop=True)\n",
    "df_tau_pet_braak_V_VI = df[df[tau_pet_braak_V_VI].notnull()].reset_index(drop=True)\n",
    "df_amyloid_pet = df[df[amyloid_pet].notnull()].reset_index(drop=True)\n",
    "\n",
    "print('Length of df for tau PET braak I-IV: ' + str(len(df_tau_pet_braak_I_IV)))\n",
    "print('Length of df for tau PET braak V-VI: ' + str(len(df_tau_pet_braak_V_VI)))\n",
    "print('Length of df for amyloid PET: ' + str(len(df_amyloid_pet)))"
   ]
  },
  {
   "cell_type": "markdown",
   "id": "2163acf6-dacb-459d-a64b-6595ece31046",
   "metadata": {},
   "source": [
    "## 1. Linear regression models, maximizing number of participants for each biomarker."
   ]
  },
  {
   "cell_type": "code",
   "execution_count": null,
   "id": "d28f5d2a-4cf8-4ce8-ad9e-641da0a1b7ff",
   "metadata": {},
   "outputs": [],
   "source": [
    "### In the corresponding manuscript, the number of iterations during bootstrapping linear regression models in \n",
    "#section 1 will be set to 10000, but this makes the running time quite long. I would recommend testing out the \n",
    "#code with a lower number of iterations, for example 100 or 1000 (which is the default for all functions)\n",
    "# This parameter can be adjusted here:\n",
    "n_iter = 10000 "
   ]
  },
  {
   "cell_type": "code",
   "execution_count": null,
   "id": "d7c80c7b-a111-4da3-9d63-ce5b0049e726",
   "metadata": {},
   "outputs": [],
   "source": [
    "# Set subset = True if you want to perform the analyses on the subset of individuals with all existing data available\n",
    "# e.g., for head-to-head rankings\n",
    "\n",
    "subset = False"
   ]
  },
  {
   "cell_type": "code",
   "execution_count": null,
   "id": "d475b79f-a5cc-4ccb-abb7-b804e86e4c69",
   "metadata": {
    "tags": []
   },
   "outputs": [],
   "source": [
    "## Create univariate linear regression models for each biomarker with max availible data\n",
    "\n",
    "## CSF\n",
    "\n",
    "#tau PET Braak I-IV\n",
    "if subset:\n",
    "    df_csf = df[csf_biomarkers+csf_biomarkers_normalized+[csf_refprot,tau_pet_braak_I_IV]].dropna().reset_index(drop=True)\n",
    "else:\n",
    "    df_csf = df_tau_pet_braak_I_IV.copy()\n",
    "all_res_csf_tau_pet_braak_I_IV = fns.compare_biomarkers(df_csf,csf_biomarkers,csf_biomarkers_normalized,csf_refprot,outcome=tau_pet_braak_I_IV,n_iter=n_iter)\n",
    "print('Tau pet braak I-IV done for CSF')\n",
    "\n",
    "#tau PET Braak V-VI\n",
    "if subset:\n",
    "    df_csf = df[csf_biomarkers+csf_biomarkers_normalized+[csf_refprot,tau_pet_braak_V_VI]].dropna().reset_index(drop=True)\n",
    "else:\n",
    "    df_csf = df_tau_pet_braak_V_VI.copy()\n",
    "all_res_csf_tau_pet_braak_V_VI = fns.compare_biomarkers(df_csf,csf_biomarkers,csf_biomarkers_normalized,csf_refprot,outcome=tau_pet_braak_V_VI,n_iter=n_iter)\n",
    "print('Tau pet braak V-VI done for CSF')\n",
    "\n",
    "#amyloid PET\n",
    "if subset:\n",
    "    df_csf = df[csf_biomarkers+csf_biomarkers_normalized+[csf_refprot,amyloid_pet]].dropna().reset_index(drop=True)\n",
    "else:\n",
    "    df_csf = df_amyloid_pet.copy()\n",
    "all_res_csf_amyloid_pet = fns.compare_biomarkers(df_csf,csf_biomarkers,csf_biomarkers_normalized,csf_refprot,outcome=amyloid_pet,n_iter=n_iter)\n",
    "print('Amyloid pet done for CSF')\n",
    "\n",
    "#store results in list\n",
    "all_res_csf = [all_res_csf_tau_pet_braak_I_IV,all_res_csf_tau_pet_braak_V_VI,all_res_csf_amyloid_pet]\n",
    "\n",
    "\n",
    "## Plasma\n",
    "\n",
    "#tau PET Braak I-IV\n",
    "if subset:\n",
    "    df_plasma = df[plasma_biomarkers+plasma_biomarkers_normalized+[plasma_refprot,tau_pet_braak_I_IV]].dropna().reset_index(drop=True)\n",
    "else:\n",
    "    df_plasma = df_tau_pet_braak_I_IV.copy()\n",
    "all_res_plasma_tau_pet_braak_I_IV = fns.compare_biomarkers(df_plasma,plasma_biomarkers,plasma_biomarkers_normalized,plasma_refprot,outcome=tau_pet_braak_I_IV,n_iter=n_iter)\n",
    "print('Tau pet braak I-IV done for plasma')\n",
    "\n",
    "#tau PET Braak V-VI\n",
    "if subset:\n",
    "    df_plasma = df[plasma_biomarkers+plasma_biomarkers_normalized+[plasma_refprot,tau_pet_braak_V_VI]].dropna().reset_index(drop=True)\n",
    "else:\n",
    "    df_plasma = df_tau_pet_braak_V_VI.copy()\n",
    "all_res_plasma_tau_pet_braak_V_VI = fns.compare_biomarkers(df_plasma,plasma_biomarkers,plasma_biomarkers_normalized,plasma_refprot,outcome=tau_pet_braak_V_VI,n_iter=n_iter)\n",
    "print('Tau pet braak V-VI done for plasma')\n",
    "\n",
    "#amyloid PET\n",
    "if subset:\n",
    "    df_plasma = df[plasma_biomarkers+plasma_biomarkers_normalized+[plasma_refprot,amyloid_pet]].dropna().reset_index(drop=True)\n",
    "else:\n",
    "    df_plasma = df_amyloid_pet.copy()\n",
    "all_res_plasma_amyloid_pet = fns.compare_biomarkers(df_plasma,plasma_biomarkers,plasma_biomarkers_normalized,plasma_refprot,outcome=amyloid_pet,n_iter=n_iter)\n",
    "print('Amyloid pet done for plasma')\n",
    "\n",
    "#store results in list\n",
    "all_res_plasma = [all_res_plasma_tau_pet_braak_I_IV,all_res_plasma_tau_pet_braak_V_VI,all_res_plasma_amyloid_pet]"
   ]
  },
  {
   "cell_type": "code",
   "execution_count": null,
   "id": "51b1c2fc-8efc-4ad1-aff2-b7c715d84844",
   "metadata": {},
   "outputs": [],
   "source": [
    "## Get P-values and FDR correction\n",
    "all_res_csf = fns.get_pvalues(all_res_csf,csf_biomarkers_normalized,n_iter=n_iter)\n",
    "all_res_plasma = fns.get_pvalues(all_res_plasma,plasma_biomarkers_normalized,n_iter=n_iter)\n",
    "\n",
    "## Save all results in a pickle file\n",
    "results_all_lin = all_res_csf + all_res_plasma\n",
    "\n",
    "with open('linreg_results.pkl', 'wb') as f:\n",
    "    pickle.dump(results_all_lin, f)"
   ]
  }
 ],
 "metadata": {
  "kernelspec": {
   "display_name": "Python 3 (ipykernel)",
   "language": "python",
   "name": "python3"
  },
  "language_info": {
   "codemirror_mode": {
    "name": "ipython",
    "version": 3
   },
   "file_extension": ".py",
   "mimetype": "text/x-python",
   "name": "python",
   "nbconvert_exporter": "python",
   "pygments_lexer": "ipython3",
   "version": "3.9.7"
  }
 },
 "nbformat": 4,
 "nbformat_minor": 5
}
